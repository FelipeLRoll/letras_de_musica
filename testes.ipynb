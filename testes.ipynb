{
 "cells": [
  {
   "cell_type": "code",
   "execution_count": 6,
   "metadata": {},
   "outputs": [],
   "source": [
    "import requests\n",
    "import streamlit as st\n",
    "import pyautogui\n",
    "import time"
   ]
  },
  {
   "cell_type": "code",
   "execution_count": 7,
   "metadata": {},
   "outputs": [],
   "source": [
    "endpoint = \"https://api.lyrics.ovh/v1/nine-lashes/write-it-down\"\n",
    "\n",
    "response = requests.get(endpoint)\n"
   ]
  },
  {
   "cell_type": "code",
   "execution_count": 8,
   "metadata": {},
   "outputs": [
    {
     "data": {
      "text/plain": [
       "200"
      ]
     },
     "execution_count": 8,
     "metadata": {},
     "output_type": "execute_result"
    }
   ],
   "source": [
    "response.status_code"
   ]
  },
  {
   "cell_type": "code",
   "execution_count": 9,
   "metadata": {},
   "outputs": [
    {
     "name": "stdout",
     "output_type": "stream",
     "text": [
      "Paroles de la chanson Write It Down par Nine Lashes\n",
      "I've been waiting for things to change\n",
      "Such loss of time and it's still the same\n",
      "They'll raise the questions\n",
      "But they'll kill the answers\n",
      "\n",
      "Write it down\n",
      "\n",
      "Scream it aloud\n",
      "Don't let it go\n",
      "There's so many deafened ears\n",
      "So dead in wrong\n",
      "Cause simple is as simple goes\n",
      "If only the deaf would hear\n",
      "\n",
      "Focus found the center once again\n",
      "Just remember the change is all there is\n",
      "\n",
      "Cause they'll break the questions on me\n",
      "Till I give the answer\n",
      "\n",
      "Write it down\n",
      "Scream it aloud\n",
      "Don't let it go\n",
      "There's so many deafened ears\n",
      "So dead in wrong\n",
      "Cause simple is as simple goes\n",
      "If only the deaf would hear\n",
      "\n",
      "I can make the sound\n",
      "They can't hear me\n",
      "\n",
      "If I state the obvious, I'm alone\n",
      "Wrapped up in all this on my own\n",
      "\n",
      "Write it down\n",
      "\n",
      "Scream it aloud\n",
      "Don't let it go\n",
      "There's so many deafened ears\n",
      "So dead in wrong\n",
      "Cause simple is as simple goes\n",
      "If only the deaf would hear\n"
     ]
    }
   ],
   "source": [
    "print(response.json()['lyrics'])"
   ]
  },
  {
   "cell_type": "code",
   "execution_count": 10,
   "metadata": {},
   "outputs": [
    {
     "data": {
      "text/plain": [
       "Point(x=-1016, y=617)"
      ]
     },
     "execution_count": 10,
     "metadata": {},
     "output_type": "execute_result"
    }
   ],
   "source": [
    "time.sleep(5)\n",
    "pyautogui.position()"
   ]
  }
 ],
 "metadata": {
  "kernelspec": {
   "display_name": ".venv",
   "language": "python",
   "name": "python3"
  },
  "language_info": {
   "codemirror_mode": {
    "name": "ipython",
    "version": 3
   },
   "file_extension": ".py",
   "mimetype": "text/x-python",
   "name": "python",
   "nbconvert_exporter": "python",
   "pygments_lexer": "ipython3",
   "version": "3.12.4"
  }
 },
 "nbformat": 4,
 "nbformat_minor": 2
}
