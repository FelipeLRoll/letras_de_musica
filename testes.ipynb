{
 "cells": [
  {
   "cell_type": "code",
   "execution_count": 3,
   "metadata": {},
   "outputs": [],
   "source": [
    "import requests\n",
    "import streamlit as st"
   ]
  },
  {
   "cell_type": "code",
   "execution_count": 4,
   "metadata": {},
   "outputs": [],
   "source": [
    "endpoint = \"https://api.lyrics.ovh/v1/nine-lashes/write-it-down\"\n",
    "\n",
    "response = requests.get(endpoint)\n"
   ]
  },
  {
   "cell_type": "code",
   "execution_count": 5,
   "metadata": {},
   "outputs": [
    {
     "data": {
      "text/plain": [
       "200"
      ]
     },
     "execution_count": 5,
     "metadata": {},
     "output_type": "execute_result"
    }
   ],
   "source": [
    "response.status_code"
   ]
  },
  {
   "cell_type": "code",
   "execution_count": 14,
   "metadata": {},
   "outputs": [
    {
     "name": "stdout",
     "output_type": "stream",
     "text": [
      "I've been waiting for things to change\n",
      "Such loss of time and it's still the same\n",
      "They'll raise the questions\n",
      "But they'll kill the answers\n",
      "Write it down\n",
      "\n",
      "\n",
      "\n",
      "Scream it aloud\n",
      "\n",
      "Don't let it go\n",
      "\n",
      "There's so many deafened ears\n",
      "\n",
      "So dead in wrong\n",
      "\n",
      "Cause simple is as simple goes\n",
      "\n",
      "If only the deaf would hear\n",
      "\n",
      "\n",
      "\n",
      "Focus found the center once again\n",
      "\n",
      "Just remember the change is all there is\n",
      "\n",
      "Cause they'll break the questions on me\n",
      "\n",
      "Till I give the answer\n",
      "\n",
      "\n",
      "\n",
      "Write it down\n",
      "\n",
      "Scream it aloud\n",
      "\n",
      "Don't let it go\n",
      "\n",
      "There's so many deafened ears\n",
      "\n",
      "So dead in wrong\n",
      "\n",
      "Cause simple is as simple goes\n",
      "\n",
      "If only the deaf would hear\n",
      "\n",
      "\n",
      "\n",
      "I can make the sound\n",
      "\n",
      "They can't hear me\n",
      "\n",
      "\n",
      "\n",
      "If I state the obvious, I'm alone\n",
      "\n",
      "Wrapped up in all this on my own\n",
      "\n",
      "\n",
      "\n",
      "Write it down\n",
      "\n",
      "Scream it aloud\n",
      "\n",
      "Don't let it go\n",
      "\n",
      "There's so many deafened ears\n",
      "\n",
      "So dead in wrong\n",
      "\n",
      "Cause simple is as simple goes\n",
      "\n",
      "If only the deaf would hear\n"
     ]
    }
   ],
   "source": [
    "print(response.json()['lyrics'])"
   ]
  }
 ],
 "metadata": {
  "kernelspec": {
   "display_name": ".venv",
   "language": "python",
   "name": "python3"
  },
  "language_info": {
   "codemirror_mode": {
    "name": "ipython",
    "version": 3
   },
   "file_extension": ".py",
   "mimetype": "text/x-python",
   "name": "python",
   "nbconvert_exporter": "python",
   "pygments_lexer": "ipython3",
   "version": "3.12.4"
  }
 },
 "nbformat": 4,
 "nbformat_minor": 2
}
